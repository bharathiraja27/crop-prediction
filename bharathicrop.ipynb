{
 "cells": [
  {
   "cell_type": "code",
   "execution_count": 1,
   "metadata": {},
   "outputs": [],
   "source": [
    "import pandas as pd\n",
    "import numpy as np\n",
    "import matplotlib as pyplot\n",
    "%matplotlib inline\n",
    "import seaborn as sns\n",
    "import sqlite3"
   ]
  },
  {
   "cell_type": "code",
   "execution_count": 2,
   "metadata": {},
   "outputs": [],
   "source": [
    "sns.set()"
   ]
  },
  {
   "cell_type": "code",
   "execution_count": 66,
   "metadata": {},
   "outputs": [],
   "source": [
    "data=pd.read_csv(\"C:/Users/keerthana/crop1.csv\")"
   ]
  },
  {
   "cell_type": "code",
   "execution_count": 67,
   "metadata": {},
   "outputs": [
    {
     "name": "stdout",
     "output_type": "stream",
     "text": [
      "<class 'pandas.core.frame.DataFrame'>\n",
      "RangeIndex: 55 entries, 0 to 54\n",
      "Data columns (total 16 columns):\n",
      "Crop                  55 non-null int64\n",
      "Production_2006       55 non-null float64\n",
      "Production_2007       55 non-null float64\n",
      "Production 2008-09    55 non-null float64\n",
      "Production 2009-10    55 non-null float64\n",
      "Production 2010-11    55 non-null float64\n",
      "Area_2006             55 non-null float64\n",
      "Area_2007             55 non-null float64\n",
      "Area 2008-09          55 non-null float64\n",
      "Area 2009-10          55 non-null float64\n",
      "Area 2010-11          55 non-null float64\n",
      "Yield_2006            55 non-null float64\n",
      "Yield_2007            55 non-null float64\n",
      "Yield 2008-09         55 non-null float64\n",
      "Yield 2009-10         55 non-null float64\n",
      "Yield 2010-11         55 non-null float64\n",
      "dtypes: float64(15), int64(1)\n",
      "memory usage: 7.0 KB\n"
     ]
    }
   ],
   "source": [
    "data.info()"
   ]
  },
  {
   "cell_type": "code",
   "execution_count": 47,
   "metadata": {},
   "outputs": [
    {
     "data": {
      "text/html": [
       "<div>\n",
       "<style scoped>\n",
       "    .dataframe tbody tr th:only-of-type {\n",
       "        vertical-align: middle;\n",
       "    }\n",
       "\n",
       "    .dataframe tbody tr th {\n",
       "        vertical-align: top;\n",
       "    }\n",
       "\n",
       "    .dataframe thead th {\n",
       "        text-align: right;\n",
       "    }\n",
       "</style>\n",
       "<table border=\"1\" class=\"dataframe\">\n",
       "  <thead>\n",
       "    <tr style=\"text-align: right;\">\n",
       "      <th></th>\n",
       "      <th>Crop</th>\n",
       "      <th>Production 2006-7</th>\n",
       "      <th>Production 2007-8</th>\n",
       "      <th>Production 2008-09</th>\n",
       "      <th>Production 2009-10</th>\n",
       "      <th>Production 2010-11</th>\n",
       "      <th>Area 2006-7</th>\n",
       "      <th>Area 2007-8</th>\n",
       "      <th>Area 2008-09</th>\n",
       "      <th>Area 2009-10</th>\n",
       "      <th>Area 2010-11</th>\n",
       "      <th>Yield 2006-7</th>\n",
       "      <th>Yield 2007-8</th>\n",
       "      <th>Yield 2008-09</th>\n",
       "      <th>Yield 2009-10</th>\n",
       "      <th>Yield 2010-11</th>\n",
       "    </tr>\n",
       "  </thead>\n",
       "  <tbody>\n",
       "    <tr>\n",
       "      <th>0</th>\n",
       "      <td>11</td>\n",
       "      <td>158.8</td>\n",
       "      <td>168.6</td>\n",
       "      <td>171.3</td>\n",
       "      <td>159.4</td>\n",
       "      <td>178.9</td>\n",
       "      <td>128.5</td>\n",
       "      <td>128.8</td>\n",
       "      <td>127.6</td>\n",
       "      <td>126.0</td>\n",
       "      <td>131.7</td>\n",
       "      <td>123.6</td>\n",
       "      <td>130.9</td>\n",
       "      <td>134.3</td>\n",
       "      <td>126.5</td>\n",
       "      <td>135.9</td>\n",
       "    </tr>\n",
       "    <tr>\n",
       "      <th>1</th>\n",
       "      <td>10</td>\n",
       "      <td>200.8</td>\n",
       "      <td>207.9</td>\n",
       "      <td>213.3</td>\n",
       "      <td>191.6</td>\n",
       "      <td>206.4</td>\n",
       "      <td>168.5</td>\n",
       "      <td>168.9</td>\n",
       "      <td>175.1</td>\n",
       "      <td>161.2</td>\n",
       "      <td>164.8</td>\n",
       "      <td>119.2</td>\n",
       "      <td>123.1</td>\n",
       "      <td>121.8</td>\n",
       "      <td>118.9</td>\n",
       "      <td>125.2</td>\n",
       "    </tr>\n",
       "    <tr>\n",
       "      <th>2</th>\n",
       "      <td>8</td>\n",
       "      <td>131.6</td>\n",
       "      <td>136.4</td>\n",
       "      <td>140.1</td>\n",
       "      <td>140.3</td>\n",
       "      <td>150.8</td>\n",
       "      <td>115.0</td>\n",
       "      <td>115.2</td>\n",
       "      <td>114.0</td>\n",
       "      <td>116.9</td>\n",
       "      <td>119.5</td>\n",
       "      <td>114.4</td>\n",
       "      <td>118.4</td>\n",
       "      <td>122.8</td>\n",
       "      <td>120.0</td>\n",
       "      <td>126.3</td>\n",
       "    </tr>\n",
       "    <tr>\n",
       "      <th>3</th>\n",
       "      <td>14</td>\n",
       "      <td>124.3</td>\n",
       "      <td>137.8</td>\n",
       "      <td>126.0</td>\n",
       "      <td>116.5</td>\n",
       "      <td>121.8</td>\n",
       "      <td>120.7</td>\n",
       "      <td>110.6</td>\n",
       "      <td>107.3</td>\n",
       "      <td>111.0</td>\n",
       "      <td>105.2</td>\n",
       "      <td>103.0</td>\n",
       "      <td>124.6</td>\n",
       "      <td>117.4</td>\n",
       "      <td>105.0</td>\n",
       "      <td>115.8</td>\n",
       "    </tr>\n",
       "    <tr>\n",
       "      <th>4</th>\n",
       "      <td>13</td>\n",
       "      <td>136.4</td>\n",
       "      <td>161.5</td>\n",
       "      <td>143.9</td>\n",
       "      <td>105.4</td>\n",
       "      <td>167.9</td>\n",
       "      <td>94.5</td>\n",
       "      <td>95.1</td>\n",
       "      <td>87.0</td>\n",
       "      <td>88.5</td>\n",
       "      <td>95.6</td>\n",
       "      <td>144.3</td>\n",
       "      <td>169.7</td>\n",
       "      <td>165.4</td>\n",
       "      <td>119.0</td>\n",
       "      <td>175.8</td>\n",
       "    </tr>\n",
       "  </tbody>\n",
       "</table>\n",
       "</div>"
      ],
      "text/plain": [
       "   Crop               Production 2006-7  Production 2007-8  \\\n",
       "0                 11              158.8              168.6   \n",
       "1                 10              200.8              207.9   \n",
       "2                  8              131.6              136.4   \n",
       "3                 14              124.3              137.8   \n",
       "4                 13              136.4              161.5   \n",
       "\n",
       "   Production 2008-09  Production 2009-10  Production 2010-11  Area 2006-7  \\\n",
       "0               171.3               159.4               178.9        128.5   \n",
       "1               213.3               191.6               206.4        168.5   \n",
       "2               140.1               140.3               150.8        115.0   \n",
       "3               126.0               116.5               121.8        120.7   \n",
       "4               143.9               105.4               167.9         94.5   \n",
       "\n",
       "   Area 2007-8  Area 2008-09  Area 2009-10  Area 2010-11  Yield 2006-7  \\\n",
       "0        128.8         127.6         126.0         131.7         123.6   \n",
       "1        168.9         175.1         161.2         164.8         119.2   \n",
       "2        115.2         114.0         116.9         119.5         114.4   \n",
       "3        110.6         107.3         111.0         105.2         103.0   \n",
       "4         95.1          87.0          88.5          95.6         144.3   \n",
       "\n",
       "   Yield 2007-8  Yield 2008-09  Yield 2009-10  Yield 2010-11  \n",
       "0         130.9          134.3          126.5          135.9  \n",
       "1         123.1          121.8          118.9          125.2  \n",
       "2         118.4          122.8          120.0          126.3  \n",
       "3         124.6          117.4          105.0          115.8  \n",
       "4         169.7          165.4          119.0          175.8  "
      ]
     },
     "execution_count": 47,
     "metadata": {},
     "output_type": "execute_result"
    }
   ],
   "source": [
    "data.head()"
   ]
  },
  {
   "cell_type": "code",
   "execution_count": 68,
   "metadata": {},
   "outputs": [],
   "source": [
    "data = data.drop(['Production 2008-09'], axis=1)"
   ]
  },
  {
   "cell_type": "code",
   "execution_count": 69,
   "metadata": {},
   "outputs": [],
   "source": [
    "data = data.drop(['Production 2009-10'], axis=1)"
   ]
  },
  {
   "cell_type": "code",
   "execution_count": 70,
   "metadata": {},
   "outputs": [],
   "source": [
    "data = data.drop(['Production 2010-11'], axis=1)"
   ]
  },
  {
   "cell_type": "code",
   "execution_count": 71,
   "metadata": {},
   "outputs": [],
   "source": [
    "data = data.drop(['Area 2008-09'], axis=1)"
   ]
  },
  {
   "cell_type": "code",
   "execution_count": 72,
   "metadata": {},
   "outputs": [],
   "source": [
    "data = data.drop(['Area 2009-10'], axis=1)"
   ]
  },
  {
   "cell_type": "code",
   "execution_count": 73,
   "metadata": {},
   "outputs": [],
   "source": [
    "data = data.drop(['Area 2010-11'], axis=1)"
   ]
  },
  {
   "cell_type": "code",
   "execution_count": 74,
   "metadata": {},
   "outputs": [],
   "source": [
    "data = data.drop(['Yield 2008-09'], axis=1)"
   ]
  },
  {
   "cell_type": "code",
   "execution_count": 75,
   "metadata": {},
   "outputs": [],
   "source": [
    "data = data.drop(['Yield 2009-10'], axis=1)"
   ]
  },
  {
   "cell_type": "code",
   "execution_count": 76,
   "metadata": {},
   "outputs": [],
   "source": [
    "data = data.drop(['Yield 2010-11'], axis=1)"
   ]
  },
  {
   "cell_type": "code",
   "execution_count": 77,
   "metadata": {},
   "outputs": [
    {
     "name": "stdout",
     "output_type": "stream",
     "text": [
      "<class 'pandas.core.frame.DataFrame'>\n",
      "RangeIndex: 55 entries, 0 to 54\n",
      "Data columns (total 7 columns):\n",
      "Crop                 55 non-null int64\n",
      "Production_2006      55 non-null float64\n",
      "Production_2007      55 non-null float64\n",
      "Area_2006            55 non-null float64\n",
      "Area_2007            55 non-null float64\n",
      "Yield_2006           55 non-null float64\n",
      "Yield_2007           55 non-null float64\n",
      "dtypes: float64(6), int64(1)\n",
      "memory usage: 3.1 KB\n"
     ]
    }
   ],
   "source": [
    "data.info()"
   ]
  },
  {
   "cell_type": "code",
   "execution_count": 33,
   "metadata": {},
   "outputs": [
    {
     "ename": "KeyError",
     "evalue": "'Production 2008-09'",
     "output_type": "error",
     "traceback": [
      "\u001b[1;31m---------------------------------------------------------------------------\u001b[0m",
      "\u001b[1;31mKeyError\u001b[0m                                  Traceback (most recent call last)",
      "\u001b[1;32m~\\Anaconda3\\lib\\site-packages\\pandas\\core\\indexes\\base.py\u001b[0m in \u001b[0;36mget_loc\u001b[1;34m(self, key, method, tolerance)\u001b[0m\n\u001b[0;32m   2656\u001b[0m             \u001b[1;32mtry\u001b[0m\u001b[1;33m:\u001b[0m\u001b[1;33m\u001b[0m\u001b[1;33m\u001b[0m\u001b[0m\n\u001b[1;32m-> 2657\u001b[1;33m                 \u001b[1;32mreturn\u001b[0m \u001b[0mself\u001b[0m\u001b[1;33m.\u001b[0m\u001b[0m_engine\u001b[0m\u001b[1;33m.\u001b[0m\u001b[0mget_loc\u001b[0m\u001b[1;33m(\u001b[0m\u001b[0mkey\u001b[0m\u001b[1;33m)\u001b[0m\u001b[1;33m\u001b[0m\u001b[1;33m\u001b[0m\u001b[0m\n\u001b[0m\u001b[0;32m   2658\u001b[0m             \u001b[1;32mexcept\u001b[0m \u001b[0mKeyError\u001b[0m\u001b[1;33m:\u001b[0m\u001b[1;33m\u001b[0m\u001b[1;33m\u001b[0m\u001b[0m\n",
      "\u001b[1;32mpandas/_libs/index.pyx\u001b[0m in \u001b[0;36mpandas._libs.index.IndexEngine.get_loc\u001b[1;34m()\u001b[0m\n",
      "\u001b[1;32mpandas/_libs/index.pyx\u001b[0m in \u001b[0;36mpandas._libs.index.IndexEngine.get_loc\u001b[1;34m()\u001b[0m\n",
      "\u001b[1;32mpandas/_libs/hashtable_class_helper.pxi\u001b[0m in \u001b[0;36mpandas._libs.hashtable.PyObjectHashTable.get_item\u001b[1;34m()\u001b[0m\n",
      "\u001b[1;32mpandas/_libs/hashtable_class_helper.pxi\u001b[0m in \u001b[0;36mpandas._libs.hashtable.PyObjectHashTable.get_item\u001b[1;34m()\u001b[0m\n",
      "\u001b[1;31mKeyError\u001b[0m: 'Production 2008-09'",
      "\nDuring handling of the above exception, another exception occurred:\n",
      "\u001b[1;31mKeyError\u001b[0m                                  Traceback (most recent call last)",
      "\u001b[1;32m<ipython-input-33-37a7e982ac42>\u001b[0m in \u001b[0;36m<module>\u001b[1;34m\u001b[0m\n\u001b[1;32m----> 1\u001b[1;33m \u001b[0mdf_Gender\u001b[0m \u001b[1;33m=\u001b[0m \u001b[0mpd\u001b[0m\u001b[1;33m.\u001b[0m\u001b[0mget_dummies\u001b[0m\u001b[1;33m(\u001b[0m\u001b[0mdata\u001b[0m\u001b[1;33m[\u001b[0m\u001b[1;34m'Production 2008-09'\u001b[0m\u001b[1;33m]\u001b[0m\u001b[1;33m)\u001b[0m\u001b[1;33m\u001b[0m\u001b[1;33m\u001b[0m\u001b[0m\n\u001b[0m\u001b[0;32m      2\u001b[0m \u001b[1;31m#df_Age = pd.get_dummies(data['Age'])\u001b[0m\u001b[1;33m\u001b[0m\u001b[1;33m\u001b[0m\u001b[1;33m\u001b[0m\u001b[0m\n\u001b[0;32m      3\u001b[0m \u001b[1;31m#df_City_Category = pd.get_dummies(data['City_Category'])\u001b[0m\u001b[1;33m\u001b[0m\u001b[1;33m\u001b[0m\u001b[1;33m\u001b[0m\u001b[0m\n\u001b[0;32m      4\u001b[0m \u001b[1;31m#df_Stay_In_Current_City_Years = pd.get_dummies(data['Stay_In_Current_City_Years'])\u001b[0m\u001b[1;33m\u001b[0m\u001b[1;33m\u001b[0m\u001b[1;33m\u001b[0m\u001b[0m\n\u001b[0;32m      5\u001b[0m \u001b[1;33m\u001b[0m\u001b[0m\n",
      "\u001b[1;32m~\\Anaconda3\\lib\\site-packages\\pandas\\core\\frame.py\u001b[0m in \u001b[0;36m__getitem__\u001b[1;34m(self, key)\u001b[0m\n\u001b[0;32m   2925\u001b[0m             \u001b[1;32mif\u001b[0m \u001b[0mself\u001b[0m\u001b[1;33m.\u001b[0m\u001b[0mcolumns\u001b[0m\u001b[1;33m.\u001b[0m\u001b[0mnlevels\u001b[0m \u001b[1;33m>\u001b[0m \u001b[1;36m1\u001b[0m\u001b[1;33m:\u001b[0m\u001b[1;33m\u001b[0m\u001b[1;33m\u001b[0m\u001b[0m\n\u001b[0;32m   2926\u001b[0m                 \u001b[1;32mreturn\u001b[0m \u001b[0mself\u001b[0m\u001b[1;33m.\u001b[0m\u001b[0m_getitem_multilevel\u001b[0m\u001b[1;33m(\u001b[0m\u001b[0mkey\u001b[0m\u001b[1;33m)\u001b[0m\u001b[1;33m\u001b[0m\u001b[1;33m\u001b[0m\u001b[0m\n\u001b[1;32m-> 2927\u001b[1;33m             \u001b[0mindexer\u001b[0m \u001b[1;33m=\u001b[0m \u001b[0mself\u001b[0m\u001b[1;33m.\u001b[0m\u001b[0mcolumns\u001b[0m\u001b[1;33m.\u001b[0m\u001b[0mget_loc\u001b[0m\u001b[1;33m(\u001b[0m\u001b[0mkey\u001b[0m\u001b[1;33m)\u001b[0m\u001b[1;33m\u001b[0m\u001b[1;33m\u001b[0m\u001b[0m\n\u001b[0m\u001b[0;32m   2928\u001b[0m             \u001b[1;32mif\u001b[0m \u001b[0mis_integer\u001b[0m\u001b[1;33m(\u001b[0m\u001b[0mindexer\u001b[0m\u001b[1;33m)\u001b[0m\u001b[1;33m:\u001b[0m\u001b[1;33m\u001b[0m\u001b[1;33m\u001b[0m\u001b[0m\n\u001b[0;32m   2929\u001b[0m                 \u001b[0mindexer\u001b[0m \u001b[1;33m=\u001b[0m \u001b[1;33m[\u001b[0m\u001b[0mindexer\u001b[0m\u001b[1;33m]\u001b[0m\u001b[1;33m\u001b[0m\u001b[1;33m\u001b[0m\u001b[0m\n",
      "\u001b[1;32m~\\Anaconda3\\lib\\site-packages\\pandas\\core\\indexes\\base.py\u001b[0m in \u001b[0;36mget_loc\u001b[1;34m(self, key, method, tolerance)\u001b[0m\n\u001b[0;32m   2657\u001b[0m                 \u001b[1;32mreturn\u001b[0m \u001b[0mself\u001b[0m\u001b[1;33m.\u001b[0m\u001b[0m_engine\u001b[0m\u001b[1;33m.\u001b[0m\u001b[0mget_loc\u001b[0m\u001b[1;33m(\u001b[0m\u001b[0mkey\u001b[0m\u001b[1;33m)\u001b[0m\u001b[1;33m\u001b[0m\u001b[1;33m\u001b[0m\u001b[0m\n\u001b[0;32m   2658\u001b[0m             \u001b[1;32mexcept\u001b[0m \u001b[0mKeyError\u001b[0m\u001b[1;33m:\u001b[0m\u001b[1;33m\u001b[0m\u001b[1;33m\u001b[0m\u001b[0m\n\u001b[1;32m-> 2659\u001b[1;33m                 \u001b[1;32mreturn\u001b[0m \u001b[0mself\u001b[0m\u001b[1;33m.\u001b[0m\u001b[0m_engine\u001b[0m\u001b[1;33m.\u001b[0m\u001b[0mget_loc\u001b[0m\u001b[1;33m(\u001b[0m\u001b[0mself\u001b[0m\u001b[1;33m.\u001b[0m\u001b[0m_maybe_cast_indexer\u001b[0m\u001b[1;33m(\u001b[0m\u001b[0mkey\u001b[0m\u001b[1;33m)\u001b[0m\u001b[1;33m)\u001b[0m\u001b[1;33m\u001b[0m\u001b[1;33m\u001b[0m\u001b[0m\n\u001b[0m\u001b[0;32m   2660\u001b[0m         \u001b[0mindexer\u001b[0m \u001b[1;33m=\u001b[0m \u001b[0mself\u001b[0m\u001b[1;33m.\u001b[0m\u001b[0mget_indexer\u001b[0m\u001b[1;33m(\u001b[0m\u001b[1;33m[\u001b[0m\u001b[0mkey\u001b[0m\u001b[1;33m]\u001b[0m\u001b[1;33m,\u001b[0m \u001b[0mmethod\u001b[0m\u001b[1;33m=\u001b[0m\u001b[0mmethod\u001b[0m\u001b[1;33m,\u001b[0m \u001b[0mtolerance\u001b[0m\u001b[1;33m=\u001b[0m\u001b[0mtolerance\u001b[0m\u001b[1;33m)\u001b[0m\u001b[1;33m\u001b[0m\u001b[1;33m\u001b[0m\u001b[0m\n\u001b[0;32m   2661\u001b[0m         \u001b[1;32mif\u001b[0m \u001b[0mindexer\u001b[0m\u001b[1;33m.\u001b[0m\u001b[0mndim\u001b[0m \u001b[1;33m>\u001b[0m \u001b[1;36m1\u001b[0m \u001b[1;32mor\u001b[0m \u001b[0mindexer\u001b[0m\u001b[1;33m.\u001b[0m\u001b[0msize\u001b[0m \u001b[1;33m>\u001b[0m \u001b[1;36m1\u001b[0m\u001b[1;33m:\u001b[0m\u001b[1;33m\u001b[0m\u001b[1;33m\u001b[0m\u001b[0m\n",
      "\u001b[1;32mpandas/_libs/index.pyx\u001b[0m in \u001b[0;36mpandas._libs.index.IndexEngine.get_loc\u001b[1;34m()\u001b[0m\n",
      "\u001b[1;32mpandas/_libs/index.pyx\u001b[0m in \u001b[0;36mpandas._libs.index.IndexEngine.get_loc\u001b[1;34m()\u001b[0m\n",
      "\u001b[1;32mpandas/_libs/hashtable_class_helper.pxi\u001b[0m in \u001b[0;36mpandas._libs.hashtable.PyObjectHashTable.get_item\u001b[1;34m()\u001b[0m\n",
      "\u001b[1;32mpandas/_libs/hashtable_class_helper.pxi\u001b[0m in \u001b[0;36mpandas._libs.hashtable.PyObjectHashTable.get_item\u001b[1;34m()\u001b[0m\n",
      "\u001b[1;31mKeyError\u001b[0m: 'Production 2008-09'"
     ]
    }
   ],
   "source": [
    "df_Gender = pd.get_dummies(data['Production 2008-09'])\n",
    "#df_Age = pd.get_dummies(data['Age'])\n",
    "#df_City_Category = pd.get_dummies(data['City_Category'])\n",
    "#df_Stay_In_Current_City_Years = pd.get_dummies(data['Stay_In_Current_City_Years'])\n",
    "\n",
    "#data_final = pd.concat([data, df_Gender, df_Age, df_City_Category, df_Stay_In_Current_City_Years], axis=1)\n",
    "\n",
    "#data_final.head()"
   ]
  },
  {
   "cell_type": "code",
   "execution_count": 78,
   "metadata": {},
   "outputs": [],
   "source": [
    "X = data[['Production_2006', 'Production_2007', 'Area_2006','Area_2007']]\n",
    "y = data[['Yield_2006','Yield_2007']]"
   ]
  },
  {
   "cell_type": "code",
   "execution_count": 79,
   "metadata": {},
   "outputs": [],
   "source": [
    "from sklearn.model_selection import train_test_split\n",
    "\n",
    "X_train, X_test, y_train, y_test = train_test_split(X, y, test_size=0.4)"
   ]
  },
  {
   "cell_type": "code",
   "execution_count": 80,
   "metadata": {},
   "outputs": [],
   "source": [
    "from sklearn.linear_model import LinearRegression"
   ]
  },
  {
   "cell_type": "code",
   "execution_count": 81,
   "metadata": {},
   "outputs": [],
   "source": [
    "lm = LinearRegression()\n",
    "y=lm.fit(X_train, y_train)"
   ]
  },
  {
   "cell_type": "code",
   "execution_count": 82,
   "metadata": {},
   "outputs": [],
   "source": [
    "from tkinter import *\n",
    "from tkinter import messagebox as ms\n",
    "import sqlite3\n"
   ]
  },
  {
   "cell_type": "code",
   "execution_count": 83,
   "metadata": {},
   "outputs": [
    {
     "data": {
      "text/plain": [
       "<sqlite3.Cursor at 0x2143cbfb110>"
      ]
     },
     "execution_count": 83,
     "metadata": {},
     "output_type": "execute_result"
    }
   ],
   "source": [
    "with sqlite3.connect('quit.db') as db:\n",
    "    c = db.cursor()\n",
    "c.execute('CREATE TABLE IF NOT EXISTS user (username TEXT NOT NULL ,password TEX NOT NULL);')\n"
   ]
  },
  {
   "cell_type": "code",
   "execution_count": 85,
   "metadata": {},
   "outputs": [],
   "source": [
    "class main:\n",
    "    global p\n",
    "    def __init__(self, master):\n",
    "        # Window\n",
    "        self.master = master\n",
    "        # Some Usefull variables\n",
    "        self.username = StringVar()\n",
    "        self.password = StringVar()\n",
    "        self.n_username = StringVar()\n",
    "        self.n_password = StringVar()\n",
    "        self.Production_2006 = IntVar()\n",
    "        self.Production_2007 = IntVar()\n",
    "        self.Area_2006 = IntVar()\n",
    "        self.Area_2007 = IntVar()\n",
    "        # Create Widgets\n",
    "        self.widgets()\n",
    "# Login Function\n",
    "    def login(self):\n",
    "        # Establish Connection\n",
    "        with sqlite3.connect('quit.db') as db:\n",
    "            c = db.cursor()\n",
    "\n",
    "        # Find user If there is any take proper action\n",
    "        find_user = ('SELECT * FROM user WHERE username = ? and password = ?')\n",
    "        c.execute(find_user, [(self.username.get()), (self.password.get())])\n",
    "        result = c.fetchall()\n",
    "        if result:\n",
    "            self.logf.pack_forget()\n",
    "            # self.head['text'] = self.username.get() + '\\n Loged In'\n",
    "            self.head = Label(self.master, text='Details', font=('', 35), pady=10)\n",
    "            self.head.pack()\n",
    "            self.detf = Frame(self.master, padx=10, pady=10)\n",
    "            Label(self.detf, text='Production_2006: ', font=('', 20), pady=5, padx=5).grid(sticky=W)\n",
    "            Entry(self.detf, textvariable=self.Production_2006, bd=5, font=('', 15)).grid(row=0, column=1)\n",
    "            Label(self.detf, text='Production_2007: ', font=('', 20), pady=5, padx=5).grid(sticky=W)\n",
    "            Entry(self.detf, textvariable=self.Production_2007, bd=5, font=('', 15)).grid(row=1, column=1)\n",
    "            Label(self.detf, text='Area_2006: ', font=('', 20), pady=5, padx=5).grid(sticky=W)\n",
    "            Entry(self.detf, textvariable=self.Area_2006, bd=5, font=('', 15)).grid(row=2, column=1)\n",
    "            Label(self.detf, text='Area 2007: ', font=('', 20), pady=5, padx=5).grid(sticky=W)\n",
    "            Entry(self.detf, textvariable=self.Area_2007, bd=5, font=('', 15)).grid(row=2, column=1)\n",
    "            Button(self.detf, text=' Submit ', bd=3, font=('', 15), padx=5, pady=5, command=self.algo).grid()\n",
    "            # Button(self.detf,text = ' Create Account ',bd = 3 ,font = ('',15),padx=5,pady=5,command=self.cr).grid(row=2,column=1)\n",
    "            self.detf.pack()\n",
    "        else:\n",
    "            ms.showerror('Oops!', 'Username Not Found.')\n",
    "    def new_user(self):\n",
    "        # Establish Connection\n",
    "        with sqlite3.connect('quit.db') as db:\n",
    "            c = db.cursor()\n",
    "        # Find Existing username if any take proper action\n",
    "        find_user = ('SELECT * FROM user WHERE username = ?')\n",
    "        c.execute(find_user, [(self.username.get())])\n",
    "        if c.fetchall():\n",
    "            ms.showerror('Error!', 'Username Taken Try a Diffrent One.')\n",
    "        else:\n",
    "            ms.showinfo('Success!', 'Account Created!')\n",
    "            self.log()\n",
    "        # Create New Account\n",
    "        insert = 'INSERT INTO user(username,password) VALUES(?,?)'\n",
    "        c.execute(insert, [(self.n_username.get()), (self.n_password.get())])\n",
    "        db.commit()\n",
    "        # Frame Packing Methords\n",
    "    def log(self):\n",
    "        self.username.set('')\n",
    "        self.password.set('')\n",
    "        self.crf.pack_forget()\n",
    "        self.head['text'] = 'LOGIN'\n",
    "        self.logf.pack()\n",
    "    def cr(self):\n",
    "        self.n_username.set('')\n",
    "        self.n_password.set('')\n",
    "        self.logf.pack_forget()\n",
    "        self.head['text'] = 'Create Account'\n",
    "        self.crf.pack()\n",
    "    def algo(self):\n",
    "        a = self.Production_2006.get()\n",
    "        b = self.Production_2007.get() \n",
    "        d = self.Area_2006.get()\n",
    "        e = self.Area_2007.get()\n",
    "        c = y.predict([[a, b, d, e]])\n",
    "        self.detf.pack_forget()\n",
    "        #self.head['text'] = 'Result'\n",
    "        #self.result.pack()\n",
    "        Label(self.head, text='Yield : ', font=('', 20), pady=5, padx=5).grid(row=6,column=2)\n",
    "        Label(self.head, text=c, font=('', 20), pady=5, padx=5).grid(row=6,column=5)\n",
    "        self.head.pack()\n",
    "    # Draw Widgets\n",
    "    def widgets(self):\n",
    "        self.head = Label(self.master, text='WELCOME', font=('', 35), pady=10)\n",
    "        self.head.pack()\n",
    "        self.logf = Frame(self.master, padx=10, pady=10)\n",
    "        self.head = Label(self.logf, text='Login', font=('', 35), pady=10)\n",
    "        Label(self.logf, text='Username: ', font=('', 20), pady=5, padx=5).grid(sticky=W)\n",
    "        Entry(self.logf, textvariable=self.username, bd=5, font=('', 15)).grid(row=0, column=1)\n",
    "        Label(self.logf, text='Password: ', font=('', 20), pady=5, padx=5).grid(sticky=W)\n",
    "        Entry(self.logf, textvariable=self.password, bd=5, font=('', 15), show='*').grid(row=1, column=1)\n",
    "        Button(self.logf, text=' Login ', bd=3, font=('', 15), padx=5, pady=5, command=self.login).grid()\n",
    "        Button(self.logf, text=' Create Account ', bd=3, font=('', 15), padx=5, pady=5, command=self.cr).grid(row=2,column=1)\n",
    "        self.logf.pack()\n",
    "        self.crf = Frame(self.master, padx=10, pady=10)\n",
    "        Label(self.crf, text='Username: ', font=('', 20), pady=5, padx=5).grid(sticky=W)\n",
    "        Entry(self.crf, textvariable=self.n_username, bd=5, font=('', 15)).grid(row=0, column=1)\n",
    "        Label(self.crf, text='Password: ', font=('', 20), pady=5, padx=5).grid(sticky=W)\n",
    "        Entry(self.crf, textvariable=self.n_password, bd=5, font=('', 15), show='*').grid(row=1, column=1)\n",
    "        Button(self.crf, text='Create Account', bd=3, font=('', 15), padx=5, pady=5, command=self.new_user).grid()\n",
    "        Button(self.crf, text='Go to Login', bd=3, font=('', 15), padx=5, pady=5, command=self.log).grid(row=2,column=1)\n",
    "\n",
    "        #self.result = Frame(self.master, padx=10, pady=10)\n",
    "        #Label(self.result, text=p, font=('',20), pady=5, padx=5).grid(sticky=W)\n",
    "        #self.result.pack()\n",
    "\n",
    "\n",
    "# create window and application object\n",
    "root = Tk()\n",
    "# root.title(\"Login Form\")\n",
    "main(root)\n",
    "root.mainloop()\n"
   ]
  }
 ],
 "metadata": {
  "kernelspec": {
   "display_name": "Python 3",
   "language": "python",
   "name": "python3"
  },
  "language_info": {
   "codemirror_mode": {
    "name": "ipython",
    "version": 3
   },
   "file_extension": ".py",
   "mimetype": "text/x-python",
   "name": "python",
   "nbconvert_exporter": "python",
   "pygments_lexer": "ipython3",
   "version": "3.7.3"
  }
 },
 "nbformat": 4,
 "nbformat_minor": 2
}
